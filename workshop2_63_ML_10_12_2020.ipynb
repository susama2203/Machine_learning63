{
  "nbformat": 4,
  "nbformat_minor": 0,
  "metadata": {
    "colab": {
      "name": "workshop2_63_ML_10_12_2020.ipynb",
      "provenance": [],
      "collapsed_sections": [],
      "include_colab_link": true
    },
    "kernelspec": {
      "name": "python3",
      "display_name": "Python 3"
    }
  },
  "cells": [
    {
      "cell_type": "markdown",
      "metadata": {
        "id": "view-in-github",
        "colab_type": "text"
      },
      "source": [
        "<a href=\"https://colab.research.google.com/github/susama2203/Machine_learning63/blob/main/workshop2_63_ML_10_12_2020.ipynb\" target=\"_parent\"><img src=\"https://colab.research.google.com/assets/colab-badge.svg\" alt=\"Open In Colab\"/></a>"
      ]
    },
    {
      "cell_type": "markdown",
      "metadata": {
        "id": "ZV13XxYekKOe"
      },
      "source": [
        "## โปรแกรมคาดการณ์กำไรของบริษัท ABC with ML\r\n",
        "*import ไลบรารีและโมดูลที่จำเป็นเข้ามาใช้ในโปรแกรม*"
      ]
    },
    {
      "cell_type": "code",
      "metadata": {
        "id": "nJH2_QsXVVpI"
      },
      "source": [
        "import matplotlib.pyplot as plt\n",
        "import numpy as np"
      ],
      "execution_count": null,
      "outputs": []
    },
    {
      "cell_type": "markdown",
      "metadata": {
        "id": "1PSlNU8WXqDF"
      },
      "source": [
        "## การเตรียมข้อมูล Input data และ Output (x มูลค่าลงทุนโฆษณา y คือกำไรที่ได้)"
      ]
    },
    {
      "cell_type": "code",
      "metadata": {
        "id": "_YKnK1a4Y8aQ"
      },
      "source": [
        "x_data =[1.0,1.8,3.0,4.1,5.2,6.0]  #ข้อมูล x\n",
        "y_data =[1,1.3,2.2,2.5,2.8,3.6]     #ข้อมูล y"
      ],
      "execution_count": null,
      "outputs": []
    },
    {
      "cell_type": "code",
      "metadata": {
        "id": "TO950fySYZFo"
      },
      "source": [
        "x= np.array(x_data)                   #เปลี่ยนข้อมูลเป็น Numpy Array\r\n",
        "y=np.array(y_data)"
      ],
      "execution_count": null,
      "outputs": []
    },
    {
      "cell_type": "markdown",
      "metadata": {
        "id": "KhdHFV8tjmZb"
      },
      "source": [
        "## ตรวจสอบข้อมูลใน x y จะมีข้อมูลดังนี้"
      ]
    },
    {
      "cell_type": "code",
      "metadata": {
        "colab": {
          "base_uri": "https://localhost:8080/"
        },
        "id": "thaHyaGNjkGZ",
        "outputId": "1c12b15c-e7ab-4dce-9caa-6c6abdcf3006"
      },
      "source": [
        "print(x)                                     #ตรวจสอบข้อมูลใน x\r\n",
        "print(y)                                     #ตรวจสอบข้อมูลใน x"
      ],
      "execution_count": null,
      "outputs": [
        {
          "output_type": "stream",
          "text": [
            "[1.  1.8 3.  4.1 5.2 6. ]\n",
            "[1.  1.3 2.2 2.5 2.8 3.6]\n"
          ],
          "name": "stdout"
        }
      ]
    },
    {
      "cell_type": "markdown",
      "metadata": {
        "id": "AThridprj3-0"
      },
      "source": [
        "## สำรวจข้อมูลด้วยกราฟก่อน (Data Visualization) เพื่อดูแนวโน้มหรือหาความสัมพันธ์ของข้อมูล\r\n",
        "*แนวโน้มความสัมพันธ์ เมื่อค่า x สูงขึ้น ค่า y จะสูงขึ้น \r\n",
        "แนวโน้มเป็นเส้นตรง(อาจไม่ตรง 100%) ซึ่งลักษณะนี้เรียกว่า Linear Regression เส้นตรง*"
      ]
    },
    {
      "cell_type": "code",
      "metadata": {
        "colab": {
          "base_uri": "https://localhost:8080/",
          "height": 265
        },
        "id": "H-UiuXT8YaIT",
        "outputId": "755c4fe9-2a43-42ca-b231-fc04473d5b52"
      },
      "source": [
        "plt.scatter(x,y)\r\n",
        "plt.grid()\r\n",
        "plt.show()"
      ],
      "execution_count": null,
      "outputs": [
        {
          "output_type": "display_data",
          "data": {
            "image/png": "[encoded data removed]",
            "text/plain": [
              "<Figure size 432x288 with 1 Axes>"
            ]
          },
          "metadata": {
            "tags": [],
            "needs_background": "light"
          }
        }
      ]
    },
    {
      "cell_type": "markdown",
      "metadata": {
        "id": "fzy0yIUymgZh"
      },
      "source": [
        "## สร้างแบบจำลอง Linear Regression"
      ]
    },
    {
      "cell_type": "code",
      "metadata": {
        "id": "iAEF_OLomCKa"
      },
      "source": [
        "from sklearn.linear_model import LinearRegression   # สำหรับสมการเชิงเส้น"
      ],
      "execution_count": null,
      "outputs": []
    },
    {
      "cell_type": "markdown",
      "metadata": {
        "id": "_yop4G9knW2x"
      },
      "source": [
        "* ข้อมูลที่จะป้อนให้คอมพิวเตอร์เรียนรู้ เรียกว่า Data set หรือ Training set จะต้องเปลี่ยนให้เป็น\tรูปแบบเมทริกซ์ (Matrix) 1 คอลัมน์ \r\n",
        "(จากเดิม array([1. , 1.8, 3. , 4.1, 5.2, 6. เป็น 1 คอลัมน์) โดยยังไม่ถือว่าเป็น 1 คอลัมน์ ) โดยใช้ .reshape(-1, 1) แยกเป็น x และ y ดังนี้\r\n"
      ]
    },
    {
      "cell_type": "code",
      "metadata": {
        "colab": {
          "base_uri": "https://localhost:8080/"
        },
        "id": "AEwF0OMKnxHL",
        "outputId": "69251a07-3379-4b12-9761-ec0c7b269955"
      },
      "source": [
        "x = x.reshape(-1,1)\r\n",
        "x"
      ],
      "execution_count": null,
      "outputs": [
        {
          "output_type": "execute_result",
          "data": {
            "text/plain": [
              "array([[1. ],\n",
              "       [1.8],\n",
              "       [3. ],\n",
              "       [4.1],\n",
              "       [5.2],\n",
              "       [6. ]])"
            ]
          },
          "metadata": {
            "tags": []
          },
          "execution_count": 27
        }
      ]
    },
    {
      "cell_type": "code",
      "metadata": {
        "id": "-d9D-n3xpLyI",
        "colab": {
          "base_uri": "https://localhost:8080/"
        },
        "outputId": "795986ce-336d-43a1-c167-ad97c5fff0c0"
      },
      "source": [
        "y = y.reshape(-1,1)\r\n",
        "y"
      ],
      "execution_count": null,
      "outputs": [
        {
          "output_type": "execute_result",
          "data": {
            "text/plain": [
              "array([[1. ],\n",
              "       [1.3],\n",
              "       [2.2],\n",
              "       [2.5],\n",
              "       [2.8],\n",
              "       [3.6]])"
            ]
          },
          "metadata": {
            "tags": []
          },
          "execution_count": 28
        }
      ]
    },
    {
      "cell_type": "markdown",
      "metadata": {
        "id": "DX1rOJfrpS-J"
      },
      "source": [
        "* เมื่อได้แล้วก็เริ่มสร้าง Model แล้วทำการป้อนข้อมูลให้คอมพิวเตอร์เรียนรู้ เพื่อสร้าง Model เรียกขั้นตอนนี้ว่าการสอน หรือ Train "
      ]
    },
    {
      "cell_type": "code",
      "metadata": {
        "id": "IauUuuExpPnh",
        "colab": {
          "base_uri": "https://localhost:8080/"
        },
        "outputId": "8e4081b2-d641-4e1f-b135-f3999adbdfb6"
      },
      "source": [
        "model = LinearRegression()   #เริ่มสร้างแบบจำลอง\r\n",
        "model.fit(x,y)                       # ป้อนข้อมูล x  y  ให้คอมพิวเตอร์เรียนรู้และสร้างแบบจำลองให้ (Train)"
      ],
      "execution_count": null,
      "outputs": [
        {
          "output_type": "execute_result",
          "data": {
            "text/plain": [
              "LinearRegression(copy_X=True, fit_intercept=True, n_jobs=None, normalize=False)"
            ]
          },
          "metadata": {
            "tags": []
          },
          "execution_count": 29
        }
      ]
    },
    {
      "cell_type": "code",
      "metadata": {
        "id": "8etaeER7quD1",
        "colab": {
          "base_uri": "https://localhost:8080/"
        },
        "outputId": "173d66ad-1d5c-4c5f-9e06-afa01710203f"
      },
      "source": [
        "model.predict([[2.5]])        #คำนวนหาผลลัพธ์ "
      ],
      "execution_count": null,
      "outputs": [
        {
          "output_type": "execute_result",
          "data": {
            "text/plain": [
              "array([[1.73670696]])"
            ]
          },
          "metadata": {
            "tags": []
          },
          "execution_count": 32
        }
      ]
    },
    {
      "cell_type": "markdown",
      "metadata": {
        "id": "W-ssat02tcIf"
      },
      "source": [
        "*คำสั่ง .predict([2.5])) คือการคำนวณประมวลผลอย่างหนึ่ง เหมือนกับทำนายผลลัพธ์ที่จะเกิดขึ้นเมื่อ Input=2.5 ฯลฯ ซึ่งผลลัพธ์ที่ได้จะคืนค่ากลับมาเป็น Array เมทริกซ์*\r\n"
      ]
    },
    {
      "cell_type": "markdown",
      "metadata": {
        "id": "sGs5b67hurTs"
      },
      "source": [
        "## โจทย์ ถ้าผู้บริหารต้องการรู้ว่าถ้าลงทุนโฆษณาต่าง ๆ ได้แก่ 2 , 2.5, 3 และ 5 ล้าน จะได้กำไรเท่าไร \r\n",
        "การเขียนโค้ด ให้กำหนดคำ x _input เป็น List คอลัมน์เดียวแบบมทริกซ์ แล้วใช้ predict() เหมือนที่ผ่านมา\r\n"
      ]
    },
    {
      "cell_type": "code",
      "metadata": {
        "id": "wsLLjkKsrGaj",
        "colab": {
          "base_uri": "https://localhost:8080/"
        },
        "outputId": "51860a61-18c8-443e-c409-3e05e8955d15"
      },
      "source": [
        "x_input =[[2.0],[2.5],[3],[5.0]]\r\n",
        "y_predict = model.predict(x_input)\r\n",
        "y_predict"
      ],
      "execution_count": null,
      "outputs": [
        {
          "output_type": "execute_result",
          "data": {
            "text/plain": [
              "array([[1.49246448],\n",
              "       [1.73670696],\n",
              "       [1.98094944],\n",
              "       [2.95791935]])"
            ]
          },
          "metadata": {
            "tags": []
          },
          "execution_count": 43
        }
      ]
    },
    {
      "cell_type": "code",
      "metadata": {
        "id": "-4aeDzn4vr62"
      },
      "source": [
        ""
      ],
      "execution_count": null,
      "outputs": []
    }
  ]
}