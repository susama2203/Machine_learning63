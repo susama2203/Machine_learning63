{
  "nbformat": 4,
  "nbformat_minor": 0,
  "metadata": {
    "colab": {
      "name": "workshop2_63_ML_11_12_2020.ipynb",
      "provenance": [],
      "collapsed_sections": [],
      "toc_visible": true,
      "include_colab_link": true
    },
    "kernelspec": {
      "name": "python3",
      "display_name": "Python 3"
    }
  },
  "cells": [
    {
      "cell_type": "markdown",
      "metadata": {
        "id": "view-in-github",
        "colab_type": "text"
      },
      "source": [
        "<a href=\"https://colab.research.google.com/github/susama2203/Machine_learning63/blob/main/workshop2_63_ML_11_12_2020.ipynb\" target=\"_parent\"><img src=\"https://colab.research.google.com/assets/colab-badge.svg\" alt=\"Open In Colab\"/></a>"
      ]
    },
    {
      "cell_type": "markdown",
      "metadata": {
        "id": "ZV13XxYekKOe"
      },
      "source": [
        "## โปรแกรมคาดการณ์กำไรของบริษัท ABC with ML\r\n",
        "*import ไลบรารีและโมดูลที่จำเป็นเข้ามาใช้ในโปรแกรม*"
      ]
    },
    {
      "cell_type": "code",
      "metadata": {
        "id": "nJH2_QsXVVpI"
      },
      "source": [
        "import matplotlib.pyplot as plt\n",
        "import numpy as np"
      ],
      "execution_count": 1,
      "outputs": []
    },
    {
      "cell_type": "markdown",
      "metadata": {
        "id": "1PSlNU8WXqDF"
      },
      "source": [
        "## การเตรียมข้อมูล Input data และ Output (x มูลค่าลงทุนโฆษณา y คือกำไรที่ได้)"
      ]
    },
    {
      "cell_type": "code",
      "metadata": {
        "id": "_YKnK1a4Y8aQ"
      },
      "source": [
        "x_data =[1.0,1.8,3.0,4.1,5.2,6.0]  #ข้อมูล x\n",
        "y_data =[1,1.3,2.2,2.5,2.8,3.6]     #ข้อมูล y"
      ],
      "execution_count": 2,
      "outputs": []
    },
    {
      "cell_type": "code",
      "metadata": {
        "id": "TO950fySYZFo"
      },
      "source": [
        "x= np.array(x_data)                   #เปลี่ยนข้อมูลเป็น Numpy Array\r\n",
        "y=np.array(y_data)"
      ],
      "execution_count": 3,
      "outputs": []
    },
    {
      "cell_type": "markdown",
      "metadata": {
        "id": "KhdHFV8tjmZb"
      },
      "source": [
        "## ตรวจสอบข้อมูลใน x y จะมีข้อมูลดังนี้"
      ]
    },
    {
      "cell_type": "code",
      "metadata": {
        "colab": {
          "base_uri": "https://localhost:8080/"
        },
        "id": "thaHyaGNjkGZ",
        "outputId": "50d66263-1c12-4a32-df15-7d936d6a6418"
      },
      "source": [
        "print(x)                                     #ตรวจสอบข้อมูลใน x\r\n",
        "print(y)                                     #ตรวจสอบข้อมูลใน x"
      ],
      "execution_count": 4,
      "outputs": [
        {
          "output_type": "stream",
          "text": [
            "[1.  1.8 3.  4.1 5.2 6. ]\n",
            "[1.  1.3 2.2 2.5 2.8 3.6]\n"
          ],
          "name": "stdout"
        }
      ]
    },
    {
      "cell_type": "markdown",
      "metadata": {
        "id": "AThridprj3-0"
      },
      "source": [
        "## สำรวจข้อมูลด้วยกราฟก่อน (Data Visualization) เพื่อดูแนวโน้มหรือหาความสัมพันธ์ของข้อมูล\r\n",
        "*แนวโน้มความสัมพันธ์ เมื่อค่า x สูงขึ้น ค่า y จะสูงขึ้น \r\n",
        "แนวโน้มเป็นเส้นตรง(อาจไม่ตรง 100%) ซึ่งลักษณะนี้เรียกว่า Linear Regression เส้นตรง*"
      ]
    },
    {
      "cell_type": "code",
      "metadata": {
        "colab": {
          "base_uri": "https://localhost:8080/",
          "height": 265
        },
        "id": "H-UiuXT8YaIT",
        "outputId": "7a24370f-897d-4c4c-9efc-f84750a762d8"
      },
      "source": [
        "plt.scatter(x,y)\r\n",
        "plt.grid()\r\n",
        "plt.show()"
      ],
      "execution_count": 5,
      "outputs": [
        {
          "output_type": "display_data",
          "data": {
            "image/png": "[encoded data removed]",
            "text/plain": [
              "<Figure size 432x288 with 1 Axes>"
            ]
          },
          "metadata": {
            "tags": [],
            "needs_background": "light"
          }
        }
      ]
    },
    {
      "cell_type": "markdown",
      "metadata": {
        "id": "fzy0yIUymgZh"
      },
      "source": [
        "## สร้างแบบจำลอง Linear Regression"
      ]
    },
    {
      "cell_type": "code",
      "metadata": {
        "id": "iAEF_OLomCKa"
      },
      "source": [
        "from sklearn.linear_model import LinearRegression   # สำหรับสมการเชิงเส้น"
      ],
      "execution_count": 6,
      "outputs": []
    },
    {
      "cell_type": "markdown",
      "metadata": {
        "id": "_yop4G9knW2x"
      },
      "source": [
        "* ข้อมูลที่จะป้อนให้คอมพิวเตอร์เรียนรู้ เรียกว่า Data set หรือ Training set จะต้องเปลี่ยนให้เป็น\tรูปแบบเมทริกซ์ (Matrix) 1 คอลัมน์ \r\n",
        "(จากเดิม array([1. , 1.8, 3. , 4.1, 5.2, 6. เป็น 1 คอลัมน์) โดยยังไม่ถือว่าเป็น 1 คอลัมน์ ) โดยใช้ .reshape(-1, 1) แยกเป็น x และ y ดังนี้\r\n"
      ]
    },
    {
      "cell_type": "code",
      "metadata": {
        "colab": {
          "base_uri": "https://localhost:8080/"
        },
        "id": "AEwF0OMKnxHL",
        "outputId": "2b5005ed-5c8e-4fb6-de7f-b1964aaace85"
      },
      "source": [
        "x = x.reshape(-1,1)\r\n",
        "x"
      ],
      "execution_count": 7,
      "outputs": [
        {
          "output_type": "execute_result",
          "data": {
            "text/plain": [
              "array([[1. ],\n",
              "       [1.8],\n",
              "       [3. ],\n",
              "       [4.1],\n",
              "       [5.2],\n",
              "       [6. ]])"
            ]
          },
          "metadata": {
            "tags": []
          },
          "execution_count": 7
        }
      ]
    },
    {
      "cell_type": "code",
      "metadata": {
        "id": "-d9D-n3xpLyI",
        "colab": {
          "base_uri": "https://localhost:8080/"
        },
        "outputId": "be60f1dc-0bfc-4853-e8ff-aa9fe60750c7"
      },
      "source": [
        "y = y.reshape(-1,1)\r\n",
        "y"
      ],
      "execution_count": 8,
      "outputs": [
        {
          "output_type": "execute_result",
          "data": {
            "text/plain": [
              "array([[1. ],\n",
              "       [1.3],\n",
              "       [2.2],\n",
              "       [2.5],\n",
              "       [2.8],\n",
              "       [3.6]])"
            ]
          },
          "metadata": {
            "tags": []
          },
          "execution_count": 8
        }
      ]
    },
    {
      "cell_type": "markdown",
      "metadata": {
        "id": "DX1rOJfrpS-J"
      },
      "source": [
        "* เมื่อได้แล้วก็เริ่มสร้าง Model แล้วทำการป้อนข้อมูลให้คอมพิวเตอร์เรียนรู้ เพื่อสร้าง Model เรียกขั้นตอนนี้ว่าการสอน หรือ Train "
      ]
    },
    {
      "cell_type": "code",
      "metadata": {
        "id": "IauUuuExpPnh",
        "colab": {
          "base_uri": "https://localhost:8080/"
        },
        "outputId": "85fc6e38-d4b8-481e-f51d-805ebbd0eb06"
      },
      "source": [
        "model = LinearRegression()   #เริ่มสร้างแบบจำลอง\r\n",
        "model.fit(x,y)                       # ป้อนข้อมูล x  y  ให้คอมพิวเตอร์เรียนรู้และสร้างแบบจำลองให้ (Train)"
      ],
      "execution_count": 9,
      "outputs": [
        {
          "output_type": "execute_result",
          "data": {
            "text/plain": [
              "LinearRegression(copy_X=True, fit_intercept=True, n_jobs=None, normalize=False)"
            ]
          },
          "metadata": {
            "tags": []
          },
          "execution_count": 9
        }
      ]
    },
    {
      "cell_type": "code",
      "metadata": {
        "id": "8etaeER7quD1",
        "colab": {
          "base_uri": "https://localhost:8080/"
        },
        "outputId": "e250bea0-0e35-4ce0-eabf-814238084421"
      },
      "source": [
        "model.predict([[2.5]])        #คำนวนหาผลลัพธ์ "
      ],
      "execution_count": 10,
      "outputs": [
        {
          "output_type": "execute_result",
          "data": {
            "text/plain": [
              "array([[1.73670696]])"
            ]
          },
          "metadata": {
            "tags": []
          },
          "execution_count": 10
        }
      ]
    },
    {
      "cell_type": "markdown",
      "metadata": {
        "id": "W-ssat02tcIf"
      },
      "source": [
        "** คำสั่ง .predict([2.5])) คือการคำนวณประมวลผลอย่างหนึ่ง เหมือนกับทำนายผลลัพธ์ที่จะเกิดขึ้นเมื่อ Input=2.5 ฯลฯ ซึ่งผลลัพธ์ที่ได้จะคืนค่ากลับมาเป็น Array เมทริกซ์\r\n"
      ]
    },
    {
      "cell_type": "markdown",
      "metadata": {
        "id": "sGs5b67hurTs"
      },
      "source": [
        "## โจทย์ ถ้าผู้บริหารต้องการรู้ว่าถ้าลงทุนโฆษณาต่าง ๆ ได้แก่ 2 , 2.5, 3 และ 5 ล้าน จะได้กำไรเท่าไร \r\n",
        "การเขียนโค้ด ให้กำหนดคำ x _input เป็น List คอลัมน์เดียวแบบเมทริกซ์ แล้วใช้ predict() เหมือนที่ผ่านมา จะได้ค่าเป็น Array ตาม Input ที่ให้ทำนาย\r\n"
      ]
    },
    {
      "cell_type": "code",
      "metadata": {
        "id": "wsLLjkKsrGaj",
        "colab": {
          "base_uri": "https://localhost:8080/"
        },
        "outputId": "50cc2c09-5064-4a1c-feb1-f8b99644c84f"
      },
      "source": [
        "x_input =[[2.0],[2.5],[3],[5.0]]\r\n",
        "y_predict = model.predict(x_input)\r\n",
        "y_predict"
      ],
      "execution_count": 12,
      "outputs": [
        {
          "output_type": "execute_result",
          "data": {
            "text/plain": [
              "array([[1.49246448],\n",
              "       [1.73670696],\n",
              "       [1.98094944],\n",
              "       [2.95791935]])"
            ]
          },
          "metadata": {
            "tags": []
          },
          "execution_count": 12
        }
      ]
    },
    {
      "cell_type": "markdown",
      "metadata": {
        "id": "r_7PLKmDgQsR"
      },
      "source": [
        "* หากต้องการค่าเดี่ยวจาก Array ให้ระบุตำแหน่ง index เช่น"
      ]
    },
    {
      "cell_type": "code",
      "metadata": {
        "id": "-4aeDzn4vr62"
      },
      "source": [
        "y_predict[1][0]    #ได้ค่า 1.7367"
      ],
      "execution_count": null,
      "outputs": []
    },
    {
      "cell_type": "code",
      "metadata": {
        "id": "J22U4rhMgsfr"
      },
      "source": [
        "y_predict[2][0]   # ได้ค่า 1.9809"
      ],
      "execution_count": null,
      "outputs": []
    },
    {
      "cell_type": "markdown",
      "metadata": {
        "id": "kLqowa5zhUna"
      },
      "source": [
        "* การกำหนด x_input ที่กล่าว อาจจะพิมพ์ยาก เราสามารถกำหนดให้เป็น List ก่อน แล้วใช้ reshape ได้ดังนี้"
      ]
    },
    {
      "cell_type": "code",
      "metadata": {
        "colab": {
          "base_uri": "https://localhost:8080/"
        },
        "id": "8IT07eZKhLug",
        "outputId": "94ad17e3-0612-4ebc-ce10-5034d6b5deca"
      },
      "source": [
        "x_input =[2.0,2.5,3,5.0]\r\n",
        "x_input = np.array(x_input).reshape(-1,1)\r\n",
        "x_input"
      ],
      "execution_count": 26,
      "outputs": [
        {
          "output_type": "execute_result",
          "data": {
            "text/plain": [
              "array([[2. ],\n",
              "       [2.5],\n",
              "       [3. ],\n",
              "       [5. ]])"
            ]
          },
          "metadata": {
            "tags": []
          },
          "execution_count": 26
        }
      ]
    },
    {
      "cell_type": "code",
      "metadata": {
        "colab": {
          "base_uri": "https://localhost:8080/"
        },
        "id": "kSd126pYiE-2",
        "outputId": "af504bb1-ce85-4b97-d161-37e4b7df0607"
      },
      "source": [
        "y_predict=model.predict(x_input)\r\n",
        "y_predict"
      ],
      "execution_count": 30,
      "outputs": [
        {
          "output_type": "execute_result",
          "data": {
            "text/plain": [
              "array([[1.49246448],\n",
              "       [1.73670696],\n",
              "       [1.98094944],\n",
              "       [2.95791935]])"
            ]
          },
          "metadata": {
            "tags": []
          },
          "execution_count": 30
        }
      ]
    },
    {
      "cell_type": "markdown",
      "metadata": {
        "id": "FBgWRcJgjexG"
      },
      "source": [
        "## การแสดงผลข้อมูลการทำนาย โดยวนรอบอ่านค่าแต่ะรายการมาแสดงผล"
      ]
    },
    {
      "cell_type": "code",
      "metadata": {
        "id": "S5_ImcPgiiPb"
      },
      "source": [
        "#y2_predict= y_predict.reshape(-1,1)\r\n",
        "#x_input_list = x_input\r\n",
        "\r\n",
        "#for i, item in enumerate(x_input_list):\r\n",
        "#  print(' x={ },y={:.5f} '.format(item[0],y2_predict[0][i]))"
      ],
      "execution_count": 56,
      "outputs": []
    },
    {
      "cell_type": "markdown",
      "metadata": {
        "id": "S2HPo3swn6Uk"
      },
      "source": [
        "## ดูเส้นจากสมการ Model\r\n",
        "* ข้อดีของ ML เราใส่ Data และ Output (x y) เข้าไปให้เครื่องเรียนรู้และสร้าง Model เส้นตรงให้เอง โดยเครื่องจะเลือกเส้นทางที่ลากผ่านจุดข้อมูลที่มีค่าเฉลี่ยดีที่สุดให้ \r\n",
        "* การดูเส้นตรงของ Model ที่เครื่องสร้างใช้คำสั่งพล็อตกราฟดังนี้ \r\n",
        "* กราฟที่ได้จาก Model ของ Machine learning"
      ]
    },
    {
      "cell_type": "code",
      "metadata": {
        "colab": {
          "base_uri": "https://localhost:8080/",
          "height": 265
        },
        "id": "IpHc6lV0j-3z",
        "outputId": "de968276-deae-451f-ebe6-262ccee04973"
      },
      "source": [
        "prd = model.predict(x)  #หาค่า  y (ทำนาย  y) ทุกจุดที่ x เป็น input\r\n",
        "plt.grid()                        # แสดงเส้นกริดตาราง\r\n",
        "plt.scatter(x,y, color ='b')  # พล็อตจุด Data ของจริงเป็นสีน้ำเงิน\r\n",
        "plt.plot(x,prd,linewidth='1')  # พล็อตเส้นตรงที่เครื่องสร้าง Model ให้\r\n",
        "plt.plot(x,prd,color='r',marker='s')  # พล็อตจุดที่เครื่องทำนายให้(r=red s=square) Model ให้\r\n",
        "plt.show()\r\n"
      ],
      "execution_count": 67,
      "outputs": [
        {
          "output_type": "display_data",
          "data": {
            "image/png": "[encoded data removed]",
            "text/plain": [
              "<Figure size 432x288 with 1 Axes>"
            ]
          },
          "metadata": {
            "tags": [],
            "needs_background": "light"
          }
        }
      ]
    },
    {
      "cell_type": "markdown",
      "metadata": {
        "id": "7VMmnaMXsnzR"
      },
      "source": [
        "## ต้องการดูค่า slope(m) และค่าจุดตัด  b ของสมการเส้นตรง"
      ]
    },
    {
      "cell_type": "code",
      "metadata": {
        "colab": {
          "base_uri": "https://localhost:8080/"
        },
        "id": "FH-QvTyJpbhp",
        "outputId": "7d08d1e6-876f-4df1-fd53-082aa5357f02"
      },
      "source": [
        "model.coef_ ,model.intercept_   #slope(m) และ b "
      ],
      "execution_count": 70,
      "outputs": [
        {
          "output_type": "execute_result",
          "data": {
            "text/plain": [
              "(array([[0.48848496]]), array([0.51549457]))"
            ]
          },
          "metadata": {
            "tags": []
          },
          "execution_count": 70
        }
      ]
    }
  ]
}