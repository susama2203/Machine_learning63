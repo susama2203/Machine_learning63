{
  "nbformat": 4,
  "nbformat_minor": 0,
  "metadata": {
    "colab": {
      "name": "workshop1_63_NO_ML.ipynb",
      "provenance": [],
      "collapsed_sections": [],
      "include_colab_link": true
    },
    "kernelspec": {
      "name": "python3",
      "display_name": "Python 3"
    }
  },
  "cells": [
    {
      "cell_type": "markdown",
      "metadata": {
        "id": "view-in-github",
        "colab_type": "text"
      },
      "source": [
        "<a href=\"https://colab.research.google.com/github/susama2203/Machine_learning63/blob/main/workshop1_63_NO_ML.ipynb\" target=\"_parent\"><img src=\"https://colab.research.google.com/assets/colab-badge.svg\" alt=\"Open In Colab\"/></a>"
      ]
    },
    {
      "cell_type": "markdown",
      "metadata": {
        "id": "ZV13XxYekKOe"
      },
      "source": [
        "## โปรแกรมคาดการณ์กำไรของบริษัท ABC\r\n"
      ]
    },
    {
      "cell_type": "code",
      "metadata": {
        "id": "nJH2_QsXVVpI"
      },
      "source": [
        "import matplotlib.pyplot as plt\n",
        "import numpy as np"
      ],
      "execution_count": 1,
      "outputs": []
    },
    {
      "cell_type": "code",
      "metadata": {
        "id": "_YKnK1a4Y8aQ",
        "colab": {
          "base_uri": "https://localhost:8080/",
          "height": 335
        },
        "outputId": "2827d064-7642-4d1d-929e-0b80e7ac1547"
      },
      "source": [
        "x_input = [2.0,2.5,3,5.0]  #input มีหลายค่า\n",
        "m=0.52\n",
        "b=0.48\n",
        "for k in x_input:\n",
        "  y2= m* k +b           #ค่า m และ  b จากที่คำนวนด้านบน\n",
        "  print('x = {:.1f}  y={:.2f} '.format(k,y2))\n",
        "  plt.scatter(k,y2)\n",
        "plt.grid()"
      ],
      "execution_count": 2,
      "outputs": [
        {
          "output_type": "stream",
          "text": [
            "x = 2.0  y=1.52 \n",
            "x = 2.5  y=1.78 \n",
            "x = 3.0  y=2.04 \n",
            "x = 5.0  y=3.08 \n"
          ],
          "name": "stdout"
        },
        {
          "output_type": "display_data",
          "data": {
            "image/png": "[encoded data removed]",
            "text/plain": [
              "<Figure size 432x288 with 1 Axes>"
            ]
          },
          "metadata": {
            "tags": [],
            "needs_background": "light"
          }
        }
      ]
    }
  ]
}