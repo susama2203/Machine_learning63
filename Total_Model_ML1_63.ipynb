{
  "nbformat": 4,
  "nbformat_minor": 0,
  "metadata": {
    "colab": {
      "name": "Total_Model_ML1_63.ipynb",
      "provenance": [],
      "authorship_tag": "ABX9TyM9712xlP2EcYLzExzeCqdU",
      "include_colab_link": true
    },
    "kernelspec": {
      "name": "python3",
      "display_name": "Python 3"
    }
  },
  "cells": [
    {
      "cell_type": "markdown",
      "metadata": {
        "id": "view-in-github",
        "colab_type": "text"
      },
      "source": [
        "<a href=\"https://colab.research.google.com/github/susama2203/Machine_learning63/blob/main/Total_Model_ML1_63.ipynb\" target=\"_parent\"><img src=\"https://colab.research.google.com/assets/colab-badge.svg\" alt=\"Open In Colab\"/></a>"
      ]
    },
    {
      "cell_type": "code",
      "metadata": {
        "colab": {
          "base_uri": "https://localhost:8080/"
        },
        "id": "0Ovg-6yz7832",
        "outputId": "1369bad7-901d-4feb-a0c9-89505ec21e08"
      },
      "source": [
        "import matplotlib.pyplot as plt\r\n",
        "import numpy as np\r\n",
        "from sklearn.linear_model import LinearRegression   # สำหรับสมการเชิงเส้น\r\n",
        "from sklearn.externals import joblib\r\n",
        "\r\n",
        "x_data =[1.0,1.8,3.0,4.1,5.2,6.0]  #ข้อมูล x\r\n",
        "y_data =[1,1.3,2.2,2.5,2.8,3.6]     #ข้อมูล y\r\n",
        "x= np.array(x_data)                   #เปลี่ยนข้อมูลเป็น Numpy Array\r\n",
        "y=np.array(y_data)\r\n",
        "x = x.reshape(-1,1)\r\n",
        "y = y.reshape(-1,1)\r\n",
        "model = LinearRegression()   #เริ่มสร้างแบบจำลอง\r\n",
        "model.fit(x,y)                       # ป้อนข้อมูล x  y  ให้คอมพิวเตอร์เรียนรู้และสร้างแบบจำลองให้ (Train)\r\n",
        "joblib.dump(model,'my_model.pkl')\r\n",
        "model.coef_ ,model.intercept_   #slope(m) และ b "
      ],
      "execution_count": 3,
      "outputs": [
        {
          "output_type": "execute_result",
          "data": {
            "text/plain": [
              "(array([[0.48848496]]), array([0.51549457]))"
            ]
          },
          "metadata": {
            "tags": []
          },
          "execution_count": 3
        }
      ]
    }
  ]
}