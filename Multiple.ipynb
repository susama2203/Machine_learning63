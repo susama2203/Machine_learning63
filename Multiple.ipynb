{
  "nbformat": 4,
  "nbformat_minor": 0,
  "metadata": {
    "colab": {
      "name": "Multiple.ipynb",
      "provenance": [],
      "authorship_tag": "ABX9TyNaczYfGXFitljx2qYEu153",
      "include_colab_link": true
    },
    "kernelspec": {
      "name": "python3",
      "display_name": "Python 3"
    }
  },
  "cells": [
    {
      "cell_type": "markdown",
      "metadata": {
        "id": "view-in-github",
        "colab_type": "text"
      },
      "source": [
        "<a href=\"https://colab.research.google.com/github/susama2203/Machine_learning63/blob/main/Multiple.ipynb\" target=\"_parent\"><img src=\"https://colab.research.google.com/assets/colab-badge.svg\" alt=\"Open In Colab\"/></a>"
      ]
    },
    {
      "cell_type": "code",
      "metadata": {
        "colab": {
          "base_uri": "https://localhost:8080/"
        },
        "id": "Px3ZmV8GTjcc",
        "outputId": "78b8868c-c5ff-4ce4-a3e8-c02f7d0790f1"
      },
      "source": [
        "number = int(input(\"แม่สูตรคูณ :\"))\r\n",
        "for i in range(1,13):\r\n",
        "  print(\"%d * %d =%d\"%(number,i,(number*i)))"
      ],
      "execution_count": 25,
      "outputs": [
        {
          "output_type": "stream",
          "text": [
            "แม่สูตรคูณ :2\n",
            "2 * 1 =2\n",
            "2 * 2 =4\n",
            "2 * 3 =6\n",
            "2 * 4 =8\n",
            "2 * 5 =10\n",
            "2 * 6 =12\n",
            "2 * 7 =14\n",
            "2 * 8 =16\n",
            "2 * 9 =18\n",
            "2 * 10 =20\n",
            "2 * 11 =22\n",
            "2 * 12 =24\n"
          ],
          "name": "stdout"
        }
      ]
    },
    {
      "cell_type": "code",
      "metadata": {
        "id": "ecaDmLyPeAhc"
      },
      "source": [
        ""
      ],
      "execution_count": null,
      "outputs": []
    }
  ]
}