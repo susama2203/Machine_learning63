{
  "nbformat": 4,
  "nbformat_minor": 0,
  "metadata": {
    "colab": {
      "name": "Covid_workshop.ipynb",
      "provenance": [],
      "collapsed_sections": [],
      "include_colab_link": true
    },
    "kernelspec": {
      "name": "python3",
      "display_name": "Python 3"
    },
    "accelerator": "GPU"
  },
  "cells": [
    {
      "cell_type": "markdown",
      "metadata": {
        "id": "view-in-github",
        "colab_type": "text"
      },
      "source": [
        "<a href=\"https://colab.research.google.com/github/susama2203/Machine_learning63/blob/main/Covid_workshop.ipynb\" target=\"_parent\"><img src=\"https://colab.research.google.com/assets/colab-badge.svg\" alt=\"Open In Colab\"/></a>"
      ]
    },
    {
      "cell_type": "markdown",
      "metadata": {
        "id": "c7aadGzbqcCe"
      },
      "source": [
        "# Import neccessary modules"
      ]
    },
    {
      "cell_type": "code",
      "metadata": {
        "id": "k6jW0dp7qXs7"
      },
      "source": [
        "import numpy as np\n",
        "import pandas as pd\n",
        "import matplotlib.pyplot as plt\n",
        "import tensorflow as tf\n",
        " \n",
        "from sklearn.model_selection import train_test_split\n",
        "from tensorflow.keras.models import Sequential, Model\n",
        "from tensorflow.keras.layers import  Dropout, Dense,GlobalMaxPooling2D, AveragePooling2D, Flatten\n",
        "from tensorflow.keras.layers import Conv2D, MaxPooling2D\n",
        "from tensorflow.keras.applications import VGG16, InceptionV3\n",
        "from tensorflow.keras import optimizers\n",
        "from sklearn.metrics import classification_report, confusion_matrix\n",
        " \n",
        "from glob import glob\n",
        "import cv2"
      ],
      "execution_count": 1,
      "outputs": []
    },
    {
      "cell_type": "markdown",
      "metadata": {
        "id": "AsYd1ebLqm5O"
      },
      "source": [
        "# Function for plotting graph"
      ]
    },
    {
      "cell_type": "code",
      "metadata": {
        "id": "VSGM7TfJqbn_"
      },
      "source": [
        "def plot_acc_loss(result, epochs):\n",
        "    acc = result.history['accuracy']\n",
        "    loss = result.history['loss']\n",
        "    val_acc = result.history['val_accuracy']\n",
        "    val_loss = result.history['val_loss']\n",
        "    plt.figure(figsize=(15, 5))\n",
        "    plt.subplot(121)\n",
        "    plt.plot(range(1,epochs), acc[1:], label='Train_acc')\n",
        "    plt.plot(range(1,epochs), val_acc[1:], label='Test_acc')\n",
        "    plt.title('Accuracy over ' + str(epochs) + ' Epochs', size=10)\n",
        "    plt.legend()\n",
        "    plt.grid(True)\n",
        "    plt.subplot(122)\n",
        "    plt.plot(range(1,epochs), loss[1:], label='Train_loss')\n",
        "    plt.plot(range(1,epochs), val_loss[1:], label='Test_loss')\n",
        "    plt.title('Loss over ' + str(epochs) + ' Epochs', size=10)\n",
        "    plt.legend()\n",
        "    plt.grid(True)\n",
        "    plt.show()"
      ],
      "execution_count": 2,
      "outputs": []
    },
    {
      "cell_type": "markdown",
      "metadata": {
        "id": "7ftj-DpIq4D8"
      },
      "source": [
        "# Read data from Google Drive"
      ]
    },
    {
      "cell_type": "code",
      "metadata": {
        "id": "c8fPXO-dq4aQ",
        "colab": {
          "base_uri": "https://localhost:8080/"
        },
        "outputId": "663c091b-d256-4677-e92a-cc5c13e53fcc"
      },
      "source": [
        "from google.colab import drive\n",
        "drive.mount('/content/gdrive')"
      ],
      "execution_count": 3,
      "outputs": [
        {
          "output_type": "stream",
          "text": [
            "Mounted at /content/gdrive\n"
          ],
          "name": "stdout"
        }
      ]
    },
    {
      "cell_type": "code",
      "metadata": {
        "id": "r3SJRVT1rBwh"
      },
      "source": [
        "# Change to your path\n",
        "mypath = '/content/gdrive/My Drive/Colab Notebooks/COVID-19 Radiography Database/'"
      ],
      "execution_count": 4,
      "outputs": []
    },
    {
      "cell_type": "code",
      "metadata": {
        "id": "93vUZiWOrSMt"
      },
      "source": [
        "filenames = glob(mypath + 'COVID-19/' + '*.png')\n",
        "np.random.shuffle(filenames)\n",
        "covid_images = [cv2.resize(cv2.imread(img), (224,224)) for img in filenames]"
      ],
      "execution_count": 5,
      "outputs": []
    },
    {
      "cell_type": "code",
      "metadata": {
        "id": "lfk-CdfirSUc"
      },
      "source": [
        "filenames = glob(mypath + 'NORMAL/' + '*.png')\n",
        "np.random.shuffle(filenames)\n",
        "normal_images = [cv2.resize(cv2.imread(img), (224,224)) for img in filenames[:219]]"
      ],
      "execution_count": null,
      "outputs": []
    },
    {
      "cell_type": "code",
      "metadata": {
        "id": "18u5P8QwrV01"
      },
      "source": [
        "filenames = glob(mypath + 'Viral Pneumonia/' + '*.png')\n",
        "np.random.shuffle(filenames)\n",
        "pneu_images = [cv2.resize(cv2.imread(img), (224,224)) for img in filenames[:219]]"
      ],
      "execution_count": null,
      "outputs": []
    },
    {
      "cell_type": "markdown",
      "metadata": {
        "id": "ap101Ja7ubHf"
      },
      "source": [
        "# Convolutional Neural Network\n",
        "\n",
        "\n",
        "\n",
        "*   0 --> Normal\n",
        "*   1 --> COVID-19"
      ]
    },
    {
      "cell_type": "code",
      "metadata": {
        "id": "PUm9hbZPubeE"
      },
      "source": [
        "X = np.array(normal_images + covid_images).astype('float32')/255\n",
        "Y = np.array([0] * 219 + [1] *219)"
      ],
      "execution_count": null,
      "outputs": []
    },
    {
      "cell_type": "code",
      "metadata": {
        "id": "GF4K20iXJPDZ"
      },
      "source": [
        "x_train, x_test, y_train, y_test = train_test_split(X, Y, test_size = 0.3, random_state = 42)"
      ],
      "execution_count": null,
      "outputs": []
    },
    {
      "cell_type": "code",
      "metadata": {
        "id": "uWXpKzu6NC8X"
      },
      "source": [
        "model = Sequential()\n",
        "model.add(Conv2D(64, (5,5), activation='relu', input_shape = (224,224,3) ))\n",
        "model.add(MaxPooling2D((2,2)))\n",
        "model.add(Conv2D(32, (5,5), activation='relu' ))\n",
        "model.add(MaxPooling2D((2,2)))\n",
        "model.add(Flatten())\n",
        "model.add(Dense(2, activation='softmax'))"
      ],
      "execution_count": null,
      "outputs": []
    },
    {
      "cell_type": "code",
      "metadata": {
        "id": "PR6tAsEUPqZq",
        "colab": {
          "base_uri": "https://localhost:8080/",
          "height": 353
        },
        "outputId": "4e706dcb-d6a2-4f52-a94a-ef68d880b6d6"
      },
      "source": [
        "model.compile(loss = tf.keras.losses.sparse_categorical_crossentropy, optimizer=tf.keras.optimizers.Adam(lr = 0.0001), metrics = ['accuracy'])\n",
        "model.summary()"
      ],
      "execution_count": null,
      "outputs": [
        {
          "output_type": "stream",
          "text": [
            "Model: \"sequential\"\n",
            "_________________________________________________________________\n",
            "Layer (type)                 Output Shape              Param #   \n",
            "=================================================================\n",
            "conv2d (Conv2D)              (None, 220, 220, 64)      4864      \n",
            "_________________________________________________________________\n",
            "max_pooling2d (MaxPooling2D) (None, 110, 110, 64)      0         \n",
            "_________________________________________________________________\n",
            "conv2d_1 (Conv2D)            (None, 106, 106, 32)      51232     \n",
            "_________________________________________________________________\n",
            "max_pooling2d_1 (MaxPooling2 (None, 53, 53, 32)        0         \n",
            "_________________________________________________________________\n",
            "flatten (Flatten)            (None, 89888)             0         \n",
            "_________________________________________________________________\n",
            "dense (Dense)                (None, 2)                 179778    \n",
            "=================================================================\n",
            "Total params: 235,874\n",
            "Trainable params: 235,874\n",
            "Non-trainable params: 0\n",
            "_________________________________________________________________\n"
          ],
          "name": "stdout"
        }
      ]
    },
    {
      "cell_type": "code",
      "metadata": {
        "id": "lxSoQ5cqQpMx",
        "colab": {
          "base_uri": "https://localhost:8080/",
          "height": 1000
        },
        "outputId": "7f5501ab-caf2-4919-d090-793dc423c72b"
      },
      "source": [
        "history = model.fit(x_train, y_train, batch_size=10, epochs=30, validation_split=0.2)"
      ],
      "execution_count": null,
      "outputs": [
        {
          "output_type": "stream",
          "text": [
            "Epoch 1/30\n",
            "25/25 [==============================] - 1s 52ms/step - loss: 0.5480 - accuracy: 0.6967 - val_loss: 0.3886 - val_accuracy: 0.8226\n",
            "Epoch 2/30\n",
            "25/25 [==============================] - 1s 37ms/step - loss: 0.2811 - accuracy: 0.8893 - val_loss: 0.2603 - val_accuracy: 0.8387\n",
            "Epoch 3/30\n",
            "25/25 [==============================] - 1s 37ms/step - loss: 0.2615 - accuracy: 0.8852 - val_loss: 0.4736 - val_accuracy: 0.7903\n",
            "Epoch 4/30\n",
            "25/25 [==============================] - 1s 37ms/step - loss: 0.1684 - accuracy: 0.9385 - val_loss: 0.1629 - val_accuracy: 0.9194\n",
            "Epoch 5/30\n",
            "25/25 [==============================] - 1s 38ms/step - loss: 0.1022 - accuracy: 0.9590 - val_loss: 0.1299 - val_accuracy: 0.9355\n",
            "Epoch 6/30\n",
            "25/25 [==============================] - 1s 37ms/step - loss: 0.0887 - accuracy: 0.9795 - val_loss: 0.1103 - val_accuracy: 0.9194\n",
            "Epoch 7/30\n",
            "25/25 [==============================] - 1s 38ms/step - loss: 0.0564 - accuracy: 0.9877 - val_loss: 0.1557 - val_accuracy: 0.9355\n",
            "Epoch 8/30\n",
            "25/25 [==============================] - 1s 38ms/step - loss: 0.0615 - accuracy: 0.9836 - val_loss: 0.1065 - val_accuracy: 0.9355\n",
            "Epoch 9/30\n",
            "25/25 [==============================] - 1s 37ms/step - loss: 0.0468 - accuracy: 0.9877 - val_loss: 0.0831 - val_accuracy: 0.9516\n",
            "Epoch 10/30\n",
            "25/25 [==============================] - 1s 38ms/step - loss: 0.0396 - accuracy: 0.9836 - val_loss: 0.2425 - val_accuracy: 0.9194\n",
            "Epoch 11/30\n",
            "25/25 [==============================] - 1s 38ms/step - loss: 0.0244 - accuracy: 0.9959 - val_loss: 0.0754 - val_accuracy: 0.9677\n",
            "Epoch 12/30\n",
            "25/25 [==============================] - 1s 38ms/step - loss: 0.0178 - accuracy: 0.9959 - val_loss: 0.1618 - val_accuracy: 0.9355\n",
            "Epoch 13/30\n",
            "25/25 [==============================] - 1s 38ms/step - loss: 0.0289 - accuracy: 0.9877 - val_loss: 0.0995 - val_accuracy: 0.9355\n",
            "Epoch 14/30\n",
            "25/25 [==============================] - 1s 38ms/step - loss: 0.0138 - accuracy: 0.9959 - val_loss: 0.1696 - val_accuracy: 0.9355\n",
            "Epoch 15/30\n",
            "25/25 [==============================] - 1s 38ms/step - loss: 0.0128 - accuracy: 1.0000 - val_loss: 0.1244 - val_accuracy: 0.9355\n",
            "Epoch 16/30\n",
            "25/25 [==============================] - 1s 38ms/step - loss: 0.0057 - accuracy: 1.0000 - val_loss: 0.1017 - val_accuracy: 0.9355\n",
            "Epoch 17/30\n",
            "25/25 [==============================] - 1s 38ms/step - loss: 0.0041 - accuracy: 1.0000 - val_loss: 0.1071 - val_accuracy: 0.9355\n",
            "Epoch 18/30\n",
            "25/25 [==============================] - 1s 38ms/step - loss: 0.0038 - accuracy: 1.0000 - val_loss: 0.0915 - val_accuracy: 0.9355\n",
            "Epoch 19/30\n",
            "25/25 [==============================] - 1s 38ms/step - loss: 0.0027 - accuracy: 1.0000 - val_loss: 0.0888 - val_accuracy: 0.9355\n",
            "Epoch 20/30\n",
            "25/25 [==============================] - 1s 38ms/step - loss: 0.0023 - accuracy: 1.0000 - val_loss: 0.1174 - val_accuracy: 0.9355\n",
            "Epoch 21/30\n",
            "25/25 [==============================] - 1s 38ms/step - loss: 0.0025 - accuracy: 1.0000 - val_loss: 0.1413 - val_accuracy: 0.9355\n",
            "Epoch 22/30\n",
            "25/25 [==============================] - 1s 37ms/step - loss: 0.0018 - accuracy: 1.0000 - val_loss: 0.0806 - val_accuracy: 0.9355\n",
            "Epoch 23/30\n",
            "25/25 [==============================] - 1s 38ms/step - loss: 0.0018 - accuracy: 1.0000 - val_loss: 0.0853 - val_accuracy: 0.9355\n",
            "Epoch 24/30\n",
            "25/25 [==============================] - 1s 38ms/step - loss: 0.0014 - accuracy: 1.0000 - val_loss: 0.1244 - val_accuracy: 0.9355\n",
            "Epoch 25/30\n",
            "25/25 [==============================] - 1s 37ms/step - loss: 0.0019 - accuracy: 1.0000 - val_loss: 0.0929 - val_accuracy: 0.9355\n",
            "Epoch 26/30\n",
            "25/25 [==============================] - 1s 38ms/step - loss: 0.0013 - accuracy: 1.0000 - val_loss: 0.1097 - val_accuracy: 0.9355\n",
            "Epoch 27/30\n",
            "25/25 [==============================] - 1s 37ms/step - loss: 0.0011 - accuracy: 1.0000 - val_loss: 0.1282 - val_accuracy: 0.9355\n",
            "Epoch 28/30\n",
            "25/25 [==============================] - 1s 38ms/step - loss: 9.9818e-04 - accuracy: 1.0000 - val_loss: 0.1056 - val_accuracy: 0.9355\n",
            "Epoch 29/30\n",
            "25/25 [==============================] - 1s 38ms/step - loss: 9.2818e-04 - accuracy: 1.0000 - val_loss: 0.0961 - val_accuracy: 0.9355\n",
            "Epoch 30/30\n",
            "25/25 [==============================] - 1s 38ms/step - loss: 9.3836e-04 - accuracy: 1.0000 - val_loss: 0.1077 - val_accuracy: 0.9355\n"
          ],
          "name": "stdout"
        }
      ]
    },
    {
      "cell_type": "code",
      "metadata": {
        "id": "OmE2TiHfRuh1",
        "colab": {
          "base_uri": "https://localhost:8080/",
          "height": 50
        },
        "outputId": "af094584-e575-4bb0-b7ac-384ad5ecff24"
      },
      "source": [
        "model.evaluate(x_test, y_test)"
      ],
      "execution_count": null,
      "outputs": [
        {
          "output_type": "stream",
          "text": [
            "5/5 [==============================] - 0s 25ms/step - loss: 0.1008 - accuracy: 0.9697\n"
          ],
          "name": "stdout"
        },
        {
          "output_type": "execute_result",
          "data": {
            "text/plain": [
              "[0.10083536803722382, 0.9696969985961914]"
            ]
          },
          "metadata": {
            "tags": []
          },
          "execution_count": 17
        }
      ]
    },
    {
      "cell_type": "code",
      "metadata": {
        "id": "qtY2tnzhSwpE",
        "colab": {
          "base_uri": "https://localhost:8080/",
          "height": 334
        },
        "outputId": "3c0ea969-6560-4b86-95c3-6d564fe6277c"
      },
      "source": [
        "plot_acc_loss(history, 30)"
      ],
      "execution_count": null,
      "outputs": [
        {
          "output_type": "display_data",
          "data": {
            "image/png": "[encoded data removed]",
            "text/plain": [
              "<Figure size 1080x360 with 2 Axes>"
            ]
          },
          "metadata": {
            "tags": [],
            "needs_background": "light"
          }
        }
      ]
    },
    {
      "cell_type": "markdown",
      "metadata": {
        "id": "cdm6AAknuowj"
      },
      "source": [
        "# Implement image classification model using pre-trained model"
      ]
    },
    {
      "cell_type": "code",
      "metadata": {
        "id": "xw8ZBTC1YxzB"
      },
      "source": [
        "X = np.array(normal_images + covid_images).astype('float32')/255\n",
        "Y = np.array([0] * 219 + [1] *219)"
      ],
      "execution_count": null,
      "outputs": []
    },
    {
      "cell_type": "code",
      "metadata": {
        "id": "bl5Z3AeGYx-H"
      },
      "source": [
        "x_train, x_test, y_train, y_test = train_test_split(X, Y, test_size = 0.3, random_state = 42)"
      ],
      "execution_count": null,
      "outputs": []
    },
    {
      "cell_type": "code",
      "metadata": {
        "id": "m5UckVTmu8RP",
        "colab": {
          "base_uri": "https://localhost:8080/"
        },
        "outputId": "615d568d-3897-495d-e2d5-509b5a970ad6"
      },
      "source": [
        "pre_trained_model = VGG16(input_shape=(224,224,3), include_top= False, weights='imagenet')"
      ],
      "execution_count": null,
      "outputs": [
        {
          "output_type": "stream",
          "text": [
            "Downloading data from https://storage.googleapis.com/tensorflow/keras-applications/vgg16/vgg16_weights_tf_dim_ordering_tf_kernels_notop.h5\n",
            "58892288/58889256 [==============================] - 1s 0us/step\n"
          ],
          "name": "stdout"
        }
      ]
    },
    {
      "cell_type": "code",
      "metadata": {
        "id": "BOk7oWYGVnLL"
      },
      "source": [
        "for layer in pre_trained_model.layers[:15]:\n",
        "  layer.trainable = False\n",
        "\n",
        "for layer in pre_trained_model.layers[15:]:\n",
        "  layer.trainable = True"
      ],
      "execution_count": null,
      "outputs": []
    },
    {
      "cell_type": "code",
      "metadata": {
        "id": "BJeq-66cWIeX"
      },
      "source": [
        "last_layer  = pre_trained_model.get_layer('block5_pool')\n",
        "last_output = last_layer.output"
      ],
      "execution_count": null,
      "outputs": []
    },
    {
      "cell_type": "code",
      "metadata": {
        "id": "5SbV8G5uWzWi"
      },
      "source": [
        "#temp = AveragePooling2D(pool_size=(4,4))(last_output)\n",
        "temp = GlobalMaxPooling2D()(last_output)\n",
        "temp = Dense(128, activation='relu')(temp)\n",
        "temp = Dropout(0.2)(temp)\n",
        "temp = Dense(64, activation='relu')(temp)\n",
        "temp = Dropout(0.2)(temp)\n",
        "temp = Dense(2, activation='softmax')(temp)"
      ],
      "execution_count": null,
      "outputs": []
    },
    {
      "cell_type": "code",
      "metadata": {
        "id": "CAzq2uwqXJqd",
        "colab": {
          "base_uri": "https://localhost:8080/",
          "height": 991
        },
        "outputId": "be0af100-c933-4c64-c33e-a7b49dfcddf5"
      },
      "source": [
        "model = tf.keras.models.Model(pre_trained_model.input, temp)\n",
        "model.compile(loss = tf.keras.losses.sparse_categorical_crossentropy, optimizer=tf.keras.optimizers.Adam(lr = 0.0001), metrics = ['accuracy'])\n",
        "model.summary()"
      ],
      "execution_count": null,
      "outputs": [
        {
          "output_type": "stream",
          "text": [
            "Model: \"model\"\n",
            "_________________________________________________________________\n",
            "Layer (type)                 Output Shape              Param #   \n",
            "=================================================================\n",
            "input_1 (InputLayer)         [(None, 224, 224, 3)]     0         \n",
            "_________________________________________________________________\n",
            "block1_conv1 (Conv2D)        (None, 224, 224, 64)      1792      \n",
            "_________________________________________________________________\n",
            "block1_conv2 (Conv2D)        (None, 224, 224, 64)      36928     \n",
            "_________________________________________________________________\n",
            "block1_pool (MaxPooling2D)   (None, 112, 112, 64)      0         \n",
            "_________________________________________________________________\n",
            "block2_conv1 (Conv2D)        (None, 112, 112, 128)     73856     \n",
            "_________________________________________________________________\n",
            "block2_conv2 (Conv2D)        (None, 112, 112, 128)     147584    \n",
            "_________________________________________________________________\n",
            "block2_pool (MaxPooling2D)   (None, 56, 56, 128)       0         \n",
            "_________________________________________________________________\n",
            "block3_conv1 (Conv2D)        (None, 56, 56, 256)       295168    \n",
            "_________________________________________________________________\n",
            "block3_conv2 (Conv2D)        (None, 56, 56, 256)       590080    \n",
            "_________________________________________________________________\n",
            "block3_conv3 (Conv2D)        (None, 56, 56, 256)       590080    \n",
            "_________________________________________________________________\n",
            "block3_pool (MaxPooling2D)   (None, 28, 28, 256)       0         \n",
            "_________________________________________________________________\n",
            "block4_conv1 (Conv2D)        (None, 28, 28, 512)       1180160   \n",
            "_________________________________________________________________\n",
            "block4_conv2 (Conv2D)        (None, 28, 28, 512)       2359808   \n",
            "_________________________________________________________________\n",
            "block4_conv3 (Conv2D)        (None, 28, 28, 512)       2359808   \n",
            "_________________________________________________________________\n",
            "block4_pool (MaxPooling2D)   (None, 14, 14, 512)       0         \n",
            "_________________________________________________________________\n",
            "block5_conv1 (Conv2D)        (None, 14, 14, 512)       2359808   \n",
            "_________________________________________________________________\n",
            "block5_conv2 (Conv2D)        (None, 14, 14, 512)       2359808   \n",
            "_________________________________________________________________\n",
            "block5_conv3 (Conv2D)        (None, 14, 14, 512)       2359808   \n",
            "_________________________________________________________________\n",
            "block5_pool (MaxPooling2D)   (None, 7, 7, 512)         0         \n",
            "_________________________________________________________________\n",
            "global_max_pooling2d (Global (None, 512)               0         \n",
            "_________________________________________________________________\n",
            "dense_1 (Dense)              (None, 128)               65664     \n",
            "_________________________________________________________________\n",
            "dropout (Dropout)            (None, 128)               0         \n",
            "_________________________________________________________________\n",
            "dense_2 (Dense)              (None, 64)                8256      \n",
            "_________________________________________________________________\n",
            "dropout_1 (Dropout)          (None, 64)                0         \n",
            "_________________________________________________________________\n",
            "dense_3 (Dense)              (None, 2)                 130       \n",
            "=================================================================\n",
            "Total params: 14,788,738\n",
            "Trainable params: 7,153,474\n",
            "Non-trainable params: 7,635,264\n",
            "_________________________________________________________________\n"
          ],
          "name": "stdout"
        }
      ]
    },
    {
      "cell_type": "code",
      "metadata": {
        "id": "-262OKhoYMrV",
        "colab": {
          "base_uri": "https://localhost:8080/",
          "height": 689
        },
        "outputId": "51308f6f-e7ff-4e3e-926b-c45a9193f33e"
      },
      "source": [
        "history = model.fit(x_train, y_train, batch_size=10, epochs=20, validation_split=0.2)"
      ],
      "execution_count": null,
      "outputs": [
        {
          "output_type": "stream",
          "text": [
            "Epoch 1/20\n",
            "25/25 [==============================] - 4s 151ms/step - loss: 0.3216 - accuracy: 0.8279 - val_loss: 0.1019 - val_accuracy: 0.9516\n",
            "Epoch 2/20\n",
            "25/25 [==============================] - 3s 101ms/step - loss: 0.0743 - accuracy: 0.9754 - val_loss: 0.0876 - val_accuracy: 0.9677\n",
            "Epoch 3/20\n",
            "25/25 [==============================] - 3s 102ms/step - loss: 0.0178 - accuracy: 0.9959 - val_loss: 0.0473 - val_accuracy: 0.9839\n",
            "Epoch 4/20\n",
            "25/25 [==============================] - 3s 101ms/step - loss: 0.0032 - accuracy: 1.0000 - val_loss: 0.0358 - val_accuracy: 0.9839\n",
            "Epoch 5/20\n",
            "25/25 [==============================] - 3s 101ms/step - loss: 0.0036 - accuracy: 1.0000 - val_loss: 0.0268 - val_accuracy: 0.9839\n",
            "Epoch 6/20\n",
            "25/25 [==============================] - 3s 102ms/step - loss: 0.0014 - accuracy: 1.0000 - val_loss: 0.0233 - val_accuracy: 0.9839\n",
            "Epoch 7/20\n",
            "25/25 [==============================] - 3s 102ms/step - loss: 0.0012 - accuracy: 1.0000 - val_loss: 0.0529 - val_accuracy: 0.9839\n",
            "Epoch 8/20\n",
            "25/25 [==============================] - 3s 102ms/step - loss: 0.0062 - accuracy: 1.0000 - val_loss: 0.0618 - val_accuracy: 0.9677\n",
            "Epoch 9/20\n",
            "25/25 [==============================] - 3s 101ms/step - loss: 0.0013 - accuracy: 1.0000 - val_loss: 0.0139 - val_accuracy: 0.9839\n",
            "Epoch 10/20\n",
            "25/25 [==============================] - 3s 102ms/step - loss: 5.6687e-04 - accuracy: 1.0000 - val_loss: 0.0047 - val_accuracy: 1.0000\n",
            "Epoch 11/20\n",
            "25/25 [==============================] - 3s 102ms/step - loss: 5.1534e-04 - accuracy: 1.0000 - val_loss: 0.0122 - val_accuracy: 0.9839\n",
            "Epoch 12/20\n",
            "25/25 [==============================] - 3s 102ms/step - loss: 6.9656e-04 - accuracy: 1.0000 - val_loss: 0.0481 - val_accuracy: 0.9839\n",
            "Epoch 13/20\n",
            "25/25 [==============================] - 3s 102ms/step - loss: 3.3343e-04 - accuracy: 1.0000 - val_loss: 0.0118 - val_accuracy: 0.9839\n",
            "Epoch 14/20\n",
            "25/25 [==============================] - 3s 102ms/step - loss: 9.3689e-05 - accuracy: 1.0000 - val_loss: 0.0089 - val_accuracy: 1.0000\n",
            "Epoch 15/20\n",
            "25/25 [==============================] - 3s 103ms/step - loss: 2.6971e-04 - accuracy: 1.0000 - val_loss: 0.0269 - val_accuracy: 0.9839\n",
            "Epoch 16/20\n",
            "25/25 [==============================] - 3s 103ms/step - loss: 1.0856e-04 - accuracy: 1.0000 - val_loss: 0.0267 - val_accuracy: 0.9839\n",
            "Epoch 17/20\n",
            "25/25 [==============================] - 3s 103ms/step - loss: 4.0501e-04 - accuracy: 1.0000 - val_loss: 0.0109 - val_accuracy: 0.9839\n",
            "Epoch 18/20\n",
            "25/25 [==============================] - 3s 103ms/step - loss: 1.7721e-04 - accuracy: 1.0000 - val_loss: 0.0104 - val_accuracy: 0.9839\n",
            "Epoch 19/20\n",
            "25/25 [==============================] - 3s 103ms/step - loss: 5.6043e-05 - accuracy: 1.0000 - val_loss: 0.0116 - val_accuracy: 0.9839\n",
            "Epoch 20/20\n",
            "25/25 [==============================] - 3s 103ms/step - loss: 2.1045e-04 - accuracy: 1.0000 - val_loss: 0.0230 - val_accuracy: 0.9839\n"
          ],
          "name": "stdout"
        }
      ]
    },
    {
      "cell_type": "code",
      "metadata": {
        "id": "InzgKaJNaLdh",
        "colab": {
          "base_uri": "https://localhost:8080/",
          "height": 50
        },
        "outputId": "6210cd4f-1b6b-4467-bcc8-fb6dff43d43f"
      },
      "source": [
        "model.evaluate(x_test, y_test)"
      ],
      "execution_count": null,
      "outputs": [
        {
          "output_type": "stream",
          "text": [
            "5/5 [==============================] - 1s 115ms/step - loss: 0.0742 - accuracy: 0.9848\n"
          ],
          "name": "stdout"
        },
        {
          "output_type": "execute_result",
          "data": {
            "text/plain": [
              "[0.07417338341474533, 0.9848484992980957]"
            ]
          },
          "metadata": {
            "tags": []
          },
          "execution_count": 27
        }
      ]
    },
    {
      "cell_type": "code",
      "metadata": {
        "id": "xq_M1ep4YXb2",
        "colab": {
          "base_uri": "https://localhost:8080/",
          "height": 334
        },
        "outputId": "1714917c-0e5e-425a-9a5d-0e74510b1694"
      },
      "source": [
        "plot_acc_loss(history, 20)"
      ],
      "execution_count": null,
      "outputs": [
        {
          "output_type": "display_data",
          "data": {
            "image/png": "[encoded data removed]",
            "text/plain": [
              "<Figure size 1080x360 with 2 Axes>"
            ]
          },
          "metadata": {
            "tags": [],
            "needs_background": "light"
          }
        }
      ]
    },
    {
      "cell_type": "code",
      "metadata": {
        "id": "eBPFi1XzaWR5"
      },
      "source": [
        ""
      ],
      "execution_count": null,
      "outputs": []
    }
  ]
}